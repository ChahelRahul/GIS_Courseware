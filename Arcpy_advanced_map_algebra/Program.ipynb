{
 "cells": [
  {
   "cell_type": "markdown",
   "metadata": {},
   "source": [
    "# Assessment- 1 GG5569/70 \n",
    "## Using Arcpy for Advance Map Algebra Application\n",
    "### By: Rahul Chahel                         Student Id: 52100749\n",
    "### Data Used: MYD11A2, MOD11A2        \n",
    "### Time Period: January 2018 to December 2020\n",
    "### Study Area: France"
   ]
  },
  {
   "cell_type": "markdown",
   "metadata": {},
   "source": [
    "## Function to Reset Kernal- incase toolbar isn't present"
   ]
  },
  {
   "cell_type": "code",
   "execution_count": 1,
   "metadata": {
    "scrolled": true
   },
   "outputs": [],
   "source": [
    "\n",
    "#import IPython\n",
    "\n",
    "#IPython.Application.instance().kernel.do_shutdown(True)\n"
   ]
  },
  {
   "cell_type": "markdown",
   "metadata": {},
   "source": [
    "# Imports and Attributes"
   ]
  },
  {
   "cell_type": "code",
   "execution_count": 2,
   "metadata": {},
   "outputs": [],
   "source": [
    "import os\n",
    "import shutil\n",
    "import numpy\n",
    "import warnings\n",
    "import arcpy\n",
    "from arcpy import env\n",
    "from arcpy.sa import *\n",
    "arcpy.env.overwriteOutput=True   # Function to enable overwriting of data, it helps in prevention of error incase any part of program is run again and it try to create a file"
   ]
  },
  {
   "cell_type": "code",
   "execution_count": 3,
   "metadata": {},
   "outputs": [
    {
     "data": {
      "text/plain": [
       "'C:\\\\Users\\\\rahul\\\\Desktop\\\\GIS\\\\69\\\\Assessment1'"
      ]
     },
     "execution_count": 3,
     "metadata": {},
     "output_type": "execute_result"
    }
   ],
   "source": [
    "parent_directory=os.getcwd()\n",
    "parent_directory"
   ]
  },
  {
   "cell_type": "markdown",
   "metadata": {},
   "source": [
    "## Task 1: Download Aqua and Terra Datasets"
   ]
  },
  {
   "cell_type": "code",
   "execution_count": 4,
   "metadata": {},
   "outputs": [],
   "source": [
    "#wget_address='C:\\Users\\rahul\\Desktop\\GIS\\69\\P4\\wget\\bin\\wget.exe'\n",
    "#wget_address=wget_address.replace('\\\\','/')\n",
    "#os.system(wget_address -P parent_directory+'/Terra/HDF' --USER \"RahulChahel\" --password \"*******\" -i parent_directory+'/5730169341download.txt')\n",
    "#os.system(wget_address -P parent_directory+'/Aqua/HDF' --USER \"RahulChahel\" --password \"*******\" -i parent_directory+'/5730169341download1.txt')\n"
   ]
  },
  {
   "cell_type": "markdown",
   "metadata": {},
   "source": [
    "# Task 2: Extraction of subdataset for DayTime and NightTime from both Aqua and Terra .HDF files in . TIF format."
   ]
  },
  {
   "cell_type": "code",
   "execution_count": 5,
   "metadata": {},
   "outputs": [],
   "source": [
    "#Creating a funtion to convert .HDF files to .TIF in an organised structure.\n",
    "def hdf2tif(HDF_Folder,TIF_Folder,SubDataset,parent_directory):\n",
    "    if not os.path.exists(HDF_Folder): #Function to check is there is need to create a new folder for destination or not\n",
    "        os.makedirs(HDF_Folder)\n",
    "    if not os.path.exists(TIF_Folder):\n",
    "        os.makedirs(TIF_Folder)\n",
    "    arcpy.env.overwriteOutput=True\n",
    "    inputPath = HDF_Folder+\"/\" \n",
    "    outputPath = TIF_Folder+\"/\"\n",
    "    inputPath=inputPath.replace('\\\\','/') # Function to replace all \\ to / in the variable as Arcpy operates with '/' while os operated with '\\'\n",
    "    outputPath=outputPath.replace('\\\\','/')\n",
    "    os.chdir(inputPath)\n",
    "    HDF_Arr=numpy.array(os.listdir(path=os.getcwd())) #Function to create an array with name of all the files present in the current directory\n",
    "    env.workspace=inputPath\n",
    "    arcpy.env.scratchWorkspace=inputPath\n",
    "    hdfList=os.listdir(os.getcwd())\n",
    "    x=HDF_Arr.size\n",
    "    y=0\n",
    "    while x:\n",
    "            x=x-1\n",
    "            try:\n",
    "                arcpy.ExtractSubDataset_management(inputPath+HDF_Arr[x],outputPath+HDF_Arr[x][8:-29]+\".tif\",SubDataset )\n",
    "            except:\n",
    "                y=y+1\n",
    "    print('File ignored count: '+str(y))\n",
    "    TIF_Folder=TIF_Folder.replace('\\\\','/')\n",
    "    return TIF_Folder\n",
    "    os.chdir(parent_directory)"
   ]
  },
  {
   "cell_type": "code",
   "execution_count": 6,
   "metadata": {},
   "outputs": [
    {
     "name": "stdout",
     "output_type": "stream",
     "text": [
      "File ignored count: 0\n",
      "File ignored count: 0\n",
      "File ignored count: 0\n",
      "File ignored count: 0\n"
     ]
    }
   ],
   "source": [
    "#Calling HDF to TIF conversion fuction for required directories and Creating list of folders containing tif files for future use.\n",
    "tif_folder_list=numpy.array([])\n",
    "tif_folder_list=numpy.append(tif_folder_list,hdf2tif(parent_directory+'/Aqua/HDF',parent_directory+'/Aqua/TIF/Aqua_D','0',parent_directory))\n",
    "tif_folder_list=numpy.append(tif_folder_list,hdf2tif(parent_directory+'/Aqua/HDF',parent_directory+'/Aqua/TIF/Aqua_N','4',parent_directory))\n",
    "tif_folder_list=numpy.append(tif_folder_list,hdf2tif(parent_directory+'/Terra/HDF',parent_directory+'/Terra/TIF/Terra_D','0',parent_directory))\n",
    "tif_folder_list=numpy.append(tif_folder_list,hdf2tif(parent_directory+'/Terra/HDF',parent_directory+'/Terra/TIF/Terra_N','4',parent_directory))"
   ]
  },
  {
   "cell_type": "code",
   "execution_count": 7,
   "metadata": {},
   "outputs": [],
   "source": [
    "#Creating a function to apply Scale factors on tif files while preserving the original files\n",
    "def Apply_Scale_Factor(TIF_Folder,Scale_Factor):\n",
    "    TIF_Folder=TIF_Folder.replace('\\\\','/')\n",
    "    os.chdir(TIF_Folder)\n",
    "    rasterList=arcpy.ListRasters(\"*\",\"TIF\")\n",
    "    if not os.path.exists(TIF_Folder+'/Original'):\n",
    "        os.makedirs(TIF_Folder+'/Original')\n",
    "    source_dir = TIF_Folder\n",
    "    target_dir = TIF_Folder+'/Original'\n",
    "    file_names = os.listdir(source_dir)\n",
    "    for rasterList in file_names:\n",
    "        source_dir=source_dir.replace('/','\\\\')\n",
    "        target_dir=target_dir.replace('/','\\\\')\n",
    "        shutil.move(os.path.join(source_dir, rasterList), target_dir)\n",
    "    os.chdir(TIF_Folder+'/Original')\n",
    "    y=0\n",
    "    for rasterList in file_names:\n",
    "        try:\n",
    "            output_raster=arcpy.sa.Raster(rasterList)*Scale_Factor\n",
    "            output_raster.save(source_dir+\"/\"+rasterList)\n",
    "        except:\n",
    "            y=y+1\n",
    "    print('Files Ignored: '+str(y))"
   ]
  },
  {
   "cell_type": "code",
   "execution_count": 8,
   "metadata": {},
   "outputs": [
    {
     "name": "stdout",
     "output_type": "stream",
     "text": [
      "Files Ignored: 553\n",
      "Files Ignored: 553\n",
      "Files Ignored: 553\n",
      "Files Ignored: 553\n"
     ]
    }
   ],
   "source": [
    "#Calling Scale factor application function and appling on all the desired tif files\n",
    "arcpy.env.overwriteOutput=True \n",
    "x=tif_folder_list.size\n",
    "while x:\n",
    "    try:\n",
    "        Apply_Scale_Factor(tif_folder_list[x-1],0.02)\n",
    "    except:\n",
    "        Apply_Scale_Factor(tif_folder_list[x-1],0.02)\n",
    "        print(tif_folder_list[x-1])\n",
    "    x=x-1"
   ]
  },
  {
   "cell_type": "code",
   "execution_count": 9,
   "metadata": {},
   "outputs": [
    {
     "data": {
      "text/plain": [
       "array(['C:/Users/rahul/Desktop/GIS/69/Assessment1/Aqua/TIF/Aqua_D',\n",
       "       'C:/Users/rahul/Desktop/GIS/69/Assessment1/Aqua/TIF/Aqua_N',\n",
       "       'C:/Users/rahul/Desktop/GIS/69/Assessment1/Terra/TIF/Terra_D',\n",
       "       'C:/Users/rahul/Desktop/GIS/69/Assessment1/Terra/TIF/Terra_N'],\n",
       "      dtype='<U59')"
      ]
     },
     "execution_count": 9,
     "metadata": {},
     "output_type": "execute_result"
    }
   ],
   "source": [
    "tif_folder_list  #Path list of all folder containing TIF files with applied scale factor"
   ]
  },
  {
   "cell_type": "markdown",
   "metadata": {},
   "source": [
    "## Task 3: Create Mean of daily Daytime and Nighttime observations seprately for Aqua and Terra observations."
   ]
  },
  {
   "cell_type": "code",
   "execution_count": 10,
   "metadata": {},
   "outputs": [],
   "source": [
    "def Raster_Mean(TIF_Folder,Mean_Folder,Output_Raster_Name):\n",
    "    try:\n",
    "        arcpy.CheckOutExtension(\"Spatial\")\n",
    "        arcpy.CheckOutExtension(\"ImageAnalyst\")\n",
    "    except:\n",
    "        return \"Necessary License not available\"\n",
    "    if not os.path.exists(Mean_Folder):\n",
    "        os.makedirs(Mean_Folder)\n",
    "    x=0\n",
    "    Sum_Raster=0\n",
    "    os.chdir(TIF_Folder)\n",
    "    for file in os.listdir(TIF_Folder):\n",
    "        if file.endswith(\".tif\"):\n",
    "            x=x+1\n",
    "            Sum_Raster=Sum_Raster+arcpy.Raster(file)\n",
    "    Mean_Raster=Sum_Raster/x\n",
    "    Mean_Raster.save(Mean_Folder+'/'+Output_Raster_Name+'.tif')"
   ]
  },
  {
   "cell_type": "code",
   "execution_count": 11,
   "metadata": {},
   "outputs": [],
   "source": [
    "x=tif_folder_list.size\n",
    "while x:\n",
    "    if not os.path.exists(tif_folder_list[x-1]+'/Mean'):\n",
    "        os.makedirs(tif_folder_list[x-1]+'/Mean')\n",
    "    name=tif_folder_list[x-1]+'/'\n",
    "    Raster_Mean(tif_folder_list[x-1],tif_folder_list[x-1]+'/Mean',name[-7:-1]+'_mean')\n",
    "    x=x-1"
   ]
  },
  {
   "cell_type": "markdown",
   "metadata": {},
   "source": [
    "## Task 5: Conversion of all the Rasters form Kelvin to Celsius scale"
   ]
  },
  {
   "cell_type": "code",
   "execution_count": 12,
   "metadata": {},
   "outputs": [],
   "source": [
    "def Kelvin2Celsius(Input_Raster_Folder,Output_Folder):\n",
    "    try:\n",
    "        arcpy.CheckOutExtension(\"Spatial\")\n",
    "        arcpy.CheckOutExtension(\"ImageAnalyst\")\n",
    "    except:\n",
    "        return \"Necessary License not available\"\n",
    "    if not os.path.exists(Output_Folder):\n",
    "        os.makedirs(Output_Folder)\n",
    "    tif_file_list=numpy.array([])\n",
    "    x=0\n",
    "    Current_Raster=0\n",
    "    os.chdir(Input_Raster_Folder)\n",
    "    for file in os.listdir(Input_Raster_Folder):\n",
    "        if file.endswith(\".tif\"):\n",
    "            x=x+1\n",
    "            Current_Raster=arcpy.Raster(file)\n",
    "            Celsius_Raster=Current_Raster-273.1\n",
    "            Celsius_Raster.save(Output_Folder+'/'+file+'_Celsius.tif')\n",
    "    "
   ]
  },
  {
   "cell_type": "code",
   "execution_count": 13,
   "metadata": {},
   "outputs": [],
   "source": [
    "x=tif_folder_list.size\n",
    "while x:\n",
    "    if not os.path.exists(tif_folder_list[x-1]+'/CelsiusRaster'):\n",
    "        os.makedirs(tif_folder_list[x-1]+'/CelsiusRaster')\n",
    "    Kelvin2Celsius(tif_folder_list[x-1],tif_folder_list[x-1]+'/CelsiusRaster')\n",
    "    x=x-1"
   ]
  },
  {
   "cell_type": "code",
   "execution_count": 14,
   "metadata": {},
   "outputs": [
    {
     "data": {
      "text/plain": [
       "'C:\\\\Users\\\\rahul\\\\Desktop\\\\GIS\\\\69\\\\Assessment1\\\\Aqua\\\\TIF\\\\Aqua_D'"
      ]
     },
     "execution_count": 14,
     "metadata": {},
     "output_type": "execute_result"
    }
   ],
   "source": [
    "os.getcwd() #Function to check current working directory"
   ]
  },
  {
   "cell_type": "markdown",
   "metadata": {},
   "source": [
    "## Task 4: Create Daily land surface Temperature using all four layers extracted"
   ]
  },
  {
   "cell_type": "code",
   "execution_count": 15,
   "metadata": {},
   "outputs": [],
   "source": [
    "def Daily_Mean_4(OriginLayer,Layer1,Layer2,Layer3):\n",
    "    try:\n",
    "        arcpy.CheckOutExtension(\"Spatial\")\n",
    "        arcpy.CheckOutExtension(\"ImageAnalyst\")\n",
    "    except:\n",
    "        return \"Necessary License not available\"\n",
    "    Daily_Mean_Folder=parent_directory+'/DailyMean'\n",
    "    if not os.path.exists(Daily_Mean_Folder):\n",
    "        os.makedirs(Daily_Mean_Folder)\n",
    "    x=0\n",
    "    tif_file_list=numpy.array([])\n",
    "    os.chdir(OriginLayer)\n",
    "    for file in os.listdir(OriginLayer):\n",
    "        if file.endswith(\".tif\"):\n",
    "            x=x+1\n",
    "            tif_file_list=numpy.append(tif_file_list,file)\n",
    "        x=tif_file_list.size\n",
    "        y=0\n",
    "        while x:\n",
    "            y=y+1\n",
    "            Raster1=arcpy.Raster(OriginLayer+'/'+tif_file_list[x-1])\n",
    "            Raster2=arcpy.Raster(Layer1+'/'+tif_file_list[x-1])\n",
    "            Raster3=arcpy.Raster(Layer2+'/'+tif_file_list[x-1])\n",
    "            Raster4=arcpy.Raster(Layer3+'/'+tif_file_list[x-1])\n",
    "            Mean = CellStatistics([Raster1, Raster2, Raster3, Raster4], \"MEAN\")\n",
    "            Mean.save(Daily_Mean_Folder+'/'+tif_file_list[x-1]+'_Mean.tif')\n",
    "            x=x-1"
   ]
  },
  {
   "cell_type": "code",
   "execution_count": 16,
   "metadata": {
    "scrolled": false
   },
   "outputs": [],
   "source": [
    "Daily_Mean_4(tif_folder_list[1],tif_folder_list[1],tif_folder_list[2],tif_folder_list[3])"
   ]
  },
  {
   "cell_type": "markdown",
   "metadata": {},
   "source": [
    "## Task 6: Apply Different Statistics using Cell Statistics.\n",
    " Operations used:\n",
    " <ol>\n",
    "    <br><li>Maximum: Raster Representing highest temperature in Region of interest(ROI) during time period January 2018 to December 2020\n",
    "    <br><li>Minimum: Raster Representing Lowest temperature in ROI during time period January 2018 to December 2020\n",
    "    <br><li>Range: Range Raster Represent the temperature variation in ROI during time period January 2018 to December 2020\n",
    "    <br><li>Majority: Majority temperature Raster gives a rough idea about the most occuring temperature in the region.\n",
    "    <br><li>Minority:Majority temperature Raster gives a rough idea about the least occuring(but still present) temperature in the region."
   ]
  },
  {
   "cell_type": "code",
   "execution_count": 17,
   "metadata": {},
   "outputs": [],
   "source": [
    "Task6Directory=parent_directory+'/Task6'\n",
    "if not os.path.exists(Task6Directory):\n",
    "        os.makedirs(Task6Directory)"
   ]
  },
  {
   "cell_type": "code",
   "execution_count": 18,
   "metadata": {},
   "outputs": [],
   "source": [
    "def SerialAccess(FolderList):\n",
    "    AllFileList=numpy.array([])\n",
    "    x=FolderList.size\n",
    "    y=0\n",
    "    while x:\n",
    "        os.chdir(FolderList[x-1])\n",
    "        for file in os.listdir(FolderList[x-1]):\n",
    "            if file.endswith(\".tif\"):\n",
    "                AllFileList=numpy.append(AllFileList,FolderList[x-1]+'/'+file)\n",
    "                y=y+1\n",
    "        x=x-1\n",
    "    print('Total TIF Files: '+ str(y))\n",
    "    return AllFileList.tolist()"
   ]
  },
  {
   "cell_type": "code",
   "execution_count": 19,
   "metadata": {},
   "outputs": [
    {
     "name": "stdout",
     "output_type": "stream",
     "text": [
      "Total TIF Files: 552\n"
     ]
    }
   ],
   "source": [
    "MaximumTemperatureRaster=CellStatistics(SerialAccess(tif_folder_list),\"MAXIMUM\")\n",
    "MaximumTemperatureRaster.save(Task6Directory+'/'+'MaximumTemperatureRaster.tif')"
   ]
  },
  {
   "cell_type": "code",
   "execution_count": 20,
   "metadata": {},
   "outputs": [
    {
     "name": "stdout",
     "output_type": "stream",
     "text": [
      "Total TIF Files: 552\n"
     ]
    }
   ],
   "source": [
    "MinimumTemperatureRaster=CellStatistics(SerialAccess(tif_folder_list),\"MINIMUM\")\n",
    "MinimumTemperatureRaster.save(Task6Directory+'/'+'MinimumTemperatureRaster.tif')"
   ]
  },
  {
   "cell_type": "code",
   "execution_count": 21,
   "metadata": {},
   "outputs": [],
   "source": [
    "#TemperatureVariationRaster=CellStatistics(SerialAccess(tif_folder_list),\"RANGE\")\n",
    "TemperatureVariationRaster=CellStatistics([MaximumTemperatureRaster,MinimumTemperatureRaster],\"RANGE\")\n",
    "TemperatureVariationRaster.save(Task6Directory+'/'+'TemperatureVariationRaster.tif')"
   ]
  },
  {
   "cell_type": "code",
   "execution_count": 22,
   "metadata": {},
   "outputs": [
    {
     "name": "stdout",
     "output_type": "stream",
     "text": [
      "Total TIF Files: 552\n"
     ]
    }
   ],
   "source": [
    "MostCommonTemperatureRaster=CellStatistics(SerialAccess(tif_folder_list),\"MAJORITY\")\n",
    "MostCommonTemperatureRaster.save(Task6Directory+'/'+'MostCommonTemperatureRaster.tif')"
   ]
  },
  {
   "cell_type": "code",
   "execution_count": 23,
   "metadata": {},
   "outputs": [
    {
     "name": "stdout",
     "output_type": "stream",
     "text": [
      "Total TIF Files: 552\n"
     ]
    }
   ],
   "source": [
    "LeastCommonTemperatureRaster=CellStatistics(SerialAccess(tif_folder_list),\"MINORITY\")\n",
    "LeastCommonTemperatureRaster.save(Task6Directory+'/'+'LeastCommonTemperatureRaster.tif')\n"
   ]
  },
  {
   "cell_type": "code",
   "execution_count": null,
   "metadata": {},
   "outputs": [],
   "source": []
  }
 ],
 "metadata": {
  "celltoolbar": "Raw Cell Format",
  "kernelspec": {
   "display_name": "Python [conda env:conda-arcgispro-py3-clone] *",
   "language": "python",
   "name": "conda-env-conda-arcgispro-py3-clone-py"
  },
  "language_info": {
   "codemirror_mode": {
    "name": "ipython",
    "version": 3
   },
   "file_extension": ".py",
   "mimetype": "text/x-python",
   "name": "python",
   "nbconvert_exporter": "python",
   "pygments_lexer": "ipython3",
   "version": "3.7.11"
  }
 },
 "nbformat": 4,
 "nbformat_minor": 4
}
