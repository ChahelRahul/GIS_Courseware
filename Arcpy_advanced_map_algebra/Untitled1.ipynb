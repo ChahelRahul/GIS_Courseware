{
 "cells": [
  {
   "cell_type": "code",
   "execution_count": 1,
   "metadata": {},
   "outputs": [
    {
     "data": {
      "text/plain": [
       "'\\nimport IPython\\n\\nIPython.Application.instance().kernel.do_shutdown(True)\\n'"
      ]
     },
     "execution_count": 1,
     "metadata": {},
     "output_type": "execute_result"
    }
   ],
   "source": [
    "'''''''''''''''''''''\n",
    "import IPython\n",
    "\n",
    "IPython.Application.instance().kernel.do_shutdown(True)\n",
    "'''''''''''''''''''''"
   ]
  },
  {
   "cell_type": "code",
   "execution_count": 5,
   "metadata": {},
   "outputs": [],
   "source": [
    "import os\n",
    "import numpy\n",
    "import arcpy\n",
    "from arcpy import env\n",
    "from arcpy.sa import *\n",
    "import warnings\n",
    "import matplotlib.pyplot as pit\n",
    "import numpy.ma as ma\n",
    "#import xarray as xr\n",
    "#from shapely.geometry import mapping, box\n",
    "#import geopandas as gpd\n",
    "#import earthpy as et"
   ]
  },
  {
   "cell_type": "code",
   "execution_count": 6,
   "metadata": {},
   "outputs": [],
   "source": [
    "parent_directory=os.getcwd()\n",
    "Aqua_Data=parent_directory+'\\Aqua'\n",
    "Terra_Data=parent_directory+'\\Terra'\n",
    "os.chdir(parent_directory)"
   ]
  },
  {
   "cell_type": "code",
   "execution_count": 7,
   "metadata": {},
   "outputs": [
    {
     "data": {
      "text/plain": [
       "\"''\\nconda install -c conda-forge earthpy\\nconda install -c conda-forge/label/cf202003 earthpy\\nconda install -c conda-forge/label/cf202003 gdal\\nconda install -c conda-forge/label/gcc7 gdal\\nconda install -c conda-forge/label/broken gdal\\nconda install -c conda-forge/label/TEST gdal\\nconda install -c conda-forge rioxarray\\nconda install -c conda-forge/label/cf202003 rioxarray\\n\""
      ]
     },
     "execution_count": 7,
     "metadata": {},
     "output_type": "execute_result"
    }
   ],
   "source": [
    "'''''''''''''''''\n",
    "conda install -c conda-forge earthpy\n",
    "conda install -c conda-forge/label/cf202003 earthpy\n",
    "conda install -c conda-forge/label/cf202003 gdal\n",
    "conda install -c conda-forge/label/gcc7 gdal\n",
    "conda install -c conda-forge/label/broken gdal\n",
    "conda install -c conda-forge/label/TEST gdal\n",
    "conda install -c conda-forge rioxarray\n",
    "conda install -c conda-forge/label/cf202003 rioxarray\n",
    "'''''''''''''''''"
   ]
  },
  {
   "cell_type": "code",
   "execution_count": 28,
   "metadata": {
    "scrolled": true
   },
   "outputs": [],
   "source": [
    "def hdf2tif(HDF_Folder,TIF_Folder,SubDataset):\n",
    "    inputPath = HDF_Folder+\"/\" \n",
    "    outputPath = TIF_Folder+\"/\"\n",
    "    inputPath=inputPath.replace('\\\\','/')\n",
    "    outputPath=outputPath.replace('\\\\','/')\n",
    "    os.chdir(inputPath)\n",
    "    HDF_Arr=numpy.array(os.listdir(path=os.getcwd()))\n",
    "    env.workspace=inputPath\n",
    "    arcpy.env.scratchWorkspace=inputPath\n",
    "    hdfList=os.listdir(os.getcwd())\n",
    "    x=HDF_Arr.size\n",
    "    y=0\n",
    "    while x:\n",
    "            x=x-1\n",
    "            try:\n",
    "                arcpy.ExtractSubDataset_management(inputPath+HDF_Arr[x],outputPath+HDF_Arr[x][8:-29]+\".tif\", )\n",
    "            except:\n",
    "                y=y+1\n",
    "    print('File ignored count: '+str(y))\n"
   ]
  },
  {
   "cell_type": "code",
   "execution_count": 29,
   "metadata": {},
   "outputs": [
    {
     "ename": "SyntaxError",
     "evalue": "(unicode error) 'unicodeescape' codec can't decode bytes in position 2-3: truncated \\UXXXXXXXX escape (<ipython-input-29-9acfbed91aa5>, line 1)",
     "output_type": "error",
     "traceback": [
      "\u001b[1;36m  File \u001b[1;32m\"<ipython-input-29-9acfbed91aa5>\"\u001b[1;36m, line \u001b[1;32m1\u001b[0m\n\u001b[1;33m    hdf2tif('C:\\Users/rahul/Desktop/GIS/69/Assessnemt1/Aqua/HDF','C:/Users/rahul/Desktop/GIS/69/Assessnemt1/Aqua/TIF','0')\u001b[0m\n\u001b[1;37m           ^\u001b[0m\n\u001b[1;31mSyntaxError\u001b[0m\u001b[1;31m:\u001b[0m (unicode error) 'unicodeescape' codec can't decode bytes in position 2-3: truncated \\UXXXXXXXX escape\n"
     ]
    }
   ],
   "source": [
    "hdf2tif('C:/Users/rahul/Desktop/GIS/69/Assessnemt1/Aqua/HDF','C:/Users/rahul/Desktop/GIS/69/Assessnemt1/Aqua/TIF','0')"
   ]
  },
  {
   "cell_type": "code",
   "execution_count": 7,
   "metadata": {},
   "outputs": [],
   "source": [
    "#import earthpy.spatial as es"
   ]
  },
  {
   "cell_type": "code",
   "execution_count": 8,
   "metadata": {},
   "outputs": [],
   "source": [
    "#import earthpy.plot as ep"
   ]
  },
  {
   "cell_type": "code",
   "execution_count": 9,
   "metadata": {},
   "outputs": [],
   "source": [
    "warnings.simplefilter('ignore')"
   ]
  },
  {
   "cell_type": "code",
   "execution_count": 10,
   "metadata": {},
   "outputs": [],
   "source": [
    "parent_folder=numpy.array(os.listdir(path=os.getcwd()))"
   ]
  },
  {
   "cell_type": "code",
   "execution_count": 11,
   "metadata": {},
   "outputs": [
    {
     "data": {
      "text/plain": [
       "array(['.ipynb_checkpoints', 'Aqua', 'Assessment-1 Guidelines.pdf',\n",
       "       'Program.py', 'Report template(1).docx', 'Study area.pdf', 'Terra',\n",
       "       'Untitled.ipynb', 'Untitled1.ipynb'], dtype='<U27')"
      ]
     },
     "execution_count": 11,
     "metadata": {},
     "output_type": "execute_result"
    }
   ],
   "source": [
    "parent_folder"
   ]
  },
  {
   "cell_type": "code",
   "execution_count": 12,
   "metadata": {},
   "outputs": [
    {
     "data": {
      "text/plain": [
       "'CheckedOut'"
      ]
     },
     "execution_count": 12,
     "metadata": {},
     "output_type": "execute_result"
    }
   ],
   "source": [
    "arcpy.env.overwriteOutput = 1\n",
    "arcpy.CheckOutExtension(\"Spatial\")"
   ]
  },
  {
   "cell_type": "code",
   "execution_count": 22,
   "metadata": {},
   "outputs": [],
   "source": [
    "inPath=Aqua_Data+\"/HDF/\"\n",
    "inPath=inPath.replace('\\\\','/')\n",
    "os.chdir(inPath)\n",
    "Aqua_HDF=numpy.array(os.listdir(path=os.getcwd()))\n",
    "outPath=Aqua_Data+'/TIF/'\n",
    "env.workspace=inPath\n",
    "arcpy.env.scratchWorkspace=inPath\n",
    "#hdfList=arcpy.ListRasters('*','HDF')\n",
    "hdfList=os.listdir(os.getcwd())\n",
    "x=Aqua_HDF.size\n",
    "while x:\n",
    "    x=x-1\n",
    "    arcpy.ExtractSubDataset_management(inPath+Aqua_HDF[x],outPath+Aqua_HDF[x]+\".tif\", )\n",
    "os.chdir(outPath)\n",
    "Aqua_TIF=numpy.array(os.listdir(path=os.getcwd()))\n"
   ]
  },
  {
   "cell_type": "code",
   "execution_count": 24,
   "metadata": {},
   "outputs": [],
   "source": [
    "os.listdir(os.getcwd())\n",
    "os.chdir(parent_directory)"
   ]
  },
  {
   "cell_type": "code",
   "execution_count": 25,
   "metadata": {},
   "outputs": [],
   "source": [
    "inPath=Terra_Data+\"/HDF/\"\n",
    "inPath=inPath.replace('\\\\','/')\n",
    "os.chdir(inPath)\n",
    "Terra_HDF=numpy.array(os.listdir(path=os.getcwd()))\n",
    "outPath=Terra_Data+'/TIF/'\n",
    "env.workspace=inPath\n",
    "arcpy.env.scratchWorkspace=inPath\n",
    "#hdfList=arcpy.ListRasters('*','HDF')\n",
    "hdfList=os.listdir(os.getcwd())\n",
    "x=Terra_HDF.size\n",
    "while x:\n",
    "    x=x-1\n",
    "    arcpy.ExtractSubDataset_management(inPath+Terra_HDF[x],outPath+Terra_HDF[x]+\".tif\", )\n",
    "os.chdir(outPath)\n",
    "Aqua_TIF=numpy.array(os.listdir(path=os.getcwd()))\n"
   ]
  },
  {
   "cell_type": "code",
   "execution_count": null,
   "metadata": {},
   "outputs": [],
   "source": [
    "##Extract Day time temperature in Aqua\n",
    "os.mkdir(\"C:/Users/HP/Desktop/UoA/SECOND_SEMESTER/MAP_Algebra/Assessment1/Aqua_Day/\") \n",
    "rootPath = \"C:/Users/HP/Desktop/UoA/SECOND_SEMESTER/MAP_Algebra/Assessment1/AquaAss/\" \n",
    "outputPath = \"C:/Users/HP/Desktop/UoA/SECOND_SEMESTER/MAP_Algebra/Assessment1/Aqua_Day/\" \n",
    "for filename in hdfList:\n",
    "    print (rootPath+filename)\n",
    "    arcpy.ExtractSubDataset_management(in_raster=rootPath+filename, out_raster=outputPath+filename[8:-29]+\".tif\", subdataset_index=\"0\")\n",
    "    \n",
    "##Extract Night time temperature in Aqua\n",
    "os.mkdir(\"C:/Users/HP/Desktop/UoA/SECOND_SEMESTER/MAP_Algebra/Assessment1/Aqua_Night/\") \n",
    "rootPath = \"C:/Users/HP/Desktop/UoA/SECOND_SEMESTER/MAP_Algebra/Assessment1/AquaAss/\" \n",
    "outputPath = \"C:/Users/HP/Desktop/UoA/SECOND_SEMESTER/MAP_Algebra/Assessment1/Aqua_Night/\" \n",
    "for filename in hdfList:\n",
    "    print (rootPath+filename)\n",
    "    arcpy.ExtractSubDataset_management(in_raster=rootPath+filename, out_raster=outputPath+filename[8:-29]+\".tif\", subdataset_index=\"4\")"
   ]
  }
 ],
 "metadata": {
  "kernelspec": {
   "display_name": "Python [conda env:conda-arcgispro-py3-clone] *",
   "language": "python",
   "name": "conda-env-conda-arcgispro-py3-clone-py"
  },
  "language_info": {
   "codemirror_mode": {
    "name": "ipython",
    "version": 3
   },
   "file_extension": ".py",
   "mimetype": "text/x-python",
   "name": "python",
   "nbconvert_exporter": "python",
   "pygments_lexer": "ipython3",
   "version": "3.7.11"
  }
 },
 "nbformat": 4,
 "nbformat_minor": 5
}
